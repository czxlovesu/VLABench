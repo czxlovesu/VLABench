{
 "cells": [
  {
   "cell_type": "markdown",
   "metadata": {},
   "source": [
    "## 1. Load and read the dataset"
   ]
  },
  {
   "cell_type": "markdown",
   "metadata": {},
   "source": [
    "Read the dataset from hdf5 file and show the data struction"
   ]
  },
  {
   "cell_type": "code",
   "execution_count": 1,
   "metadata": {},
   "outputs": [],
   "source": [
    "import h5py\n",
    "import json\n",
    "import os\n",
    "import random\n",
    "\n",
    "def get_all_hdf5_files(directory):\n",
    "    \"\"\"\n",
    "    Get all HDF5 files in a directory and its subdirectories.\n",
    "    \"\"\"\n",
    "    hdf5_files = []\n",
    "    for root, dirs, files in os.walk(directory):\n",
    "        for file in files:\n",
    "            if file.endswith('.hdf5'):\n",
    "                hdf5_files.append(os.path.join(root, file))\n",
    "    return hdf5_files\n",
    "\n",
    "def print_structure(group, indent=0):\n",
    "    \"\"\"\n",
    "    Print the hierarchical structure of an HDF5 group.\n",
    "    \"\"\"\n",
    "    for key in group.keys():\n",
    "        item = group[key]\n",
    "        print(\" \" * indent + key)\n",
    "        if isinstance(item, h5py.Group):\n",
    "            print_structure(item, indent + 4)\n",
    "        elif isinstance(item, h5py.Dataset):\n",
    "            print(\" \" * indent, item.shape, item.dtype)\n",
    "            if key == \"entities\" or key == \"target_entity\" or key == \"instruction\":\n",
    "                decoded = [x.decode('utf-8') for x in item]\n",
    "                print(\" \" * indent, decoded)\n",
    "        \n",
    "        elif isinstance(item, h5py.Datatype):\n",
    "            print(\" \" * (indent + 4) + \"Datatype\", json.loads())"
   ]
  },
  {
   "cell_type": "code",
   "execution_count": 2,
   "metadata": {},
   "outputs": [
    {
     "name": "stdout",
     "output_type": "stream",
     "text": [
      "['/media/shiduo/LENOVO_USB_HDD/dataset/VLABench/select_billiards/data_0.hdf5']\n"
     ]
    }
   ],
   "source": [
    "dataset_root = \"/media/shiduo/LENOVO_USB_HDD/dataset/VLABench/select_billiards\" \n",
    "hdf5_files = get_all_hdf5_files(dataset_root)\n",
    "print(hdf5_files[:3])"
   ]
  },
  {
   "cell_type": "code",
   "execution_count": 4,
   "metadata": {},
   "outputs": [
    {
     "name": "stdout",
     "output_type": "stream",
     "text": [
      "data\n",
      "    2025-02-23 20:46:40\n",
      "        instruction\n",
      "         (1,) |S38\n",
      "         ['Please put the striped_10 in any hole.']\n",
      "        meta_info\n",
      "            entities\n",
      "             (6,) |S15\n",
      "             ['billiards_table', 'striped_10', 'striped_14', 'striped_11', 'striped_12', 'solid_1']\n",
      "            target_entity\n",
      "             (1,) |S10\n",
      "             ['striped_10']\n",
      "        observation\n",
      "            depth\n",
      "             (212, 4, 480, 480) float32\n",
      "            ee_state\n",
      "             (212, 8) float32\n",
      "            point_cloud_colors\n",
      "             (212, 11905, 3) float32\n",
      "            point_cloud_points\n",
      "             (212, 11905, 3) float32\n",
      "            q_acceleration\n",
      "             (212, 7, 1) float32\n",
      "            q_state\n",
      "             (212, 7, 1) float32\n",
      "            q_velocity\n",
      "             (212, 7, 1) float32\n",
      "            rgb\n",
      "             (212, 4, 480, 480, 3) uint8\n",
      "            robot_mask\n",
      "             (212, 4, 480, 480) float32\n",
      "        trajectory\n",
      "         (212, 8) float32\n",
      "    2025-02-23 20:49:53\n",
      "        instruction\n",
      "         (1,) |S38\n",
      "         ['Please put the striped_14 in any hole.']\n",
      "        meta_info\n",
      "            entities\n",
      "             (5,) |S15\n",
      "             ['billiards_table', 'striped_14', 'solid_7', 'striped_15', 'solid_1']\n",
      "            episode_config\n",
      "             () |S1879\n",
      "            target_entity\n",
      "             (1,) |S10\n",
      "             ['striped_14']\n",
      "        observation\n",
      "            depth\n",
      "             (164, 4, 480, 480) float32\n",
      "            ee_state\n",
      "             (164, 8) float32\n",
      "            point_cloud_colors\n",
      "             (164, 11929, 3) float32\n",
      "            point_cloud_points\n",
      "             (164, 11929, 3) float32\n",
      "            q_acceleration\n",
      "             (164, 7, 1) float32\n",
      "            q_state\n",
      "             (164, 7, 1) float32\n",
      "            q_velocity\n",
      "             (164, 7, 1) float32\n",
      "            rgb\n",
      "             (164, 4, 480, 480, 3) uint8\n",
      "            robot_mask\n",
      "             (164, 4, 480, 480) float32\n",
      "        trajectory\n",
      "         (164, 8) float32\n"
     ]
    }
   ],
   "source": [
    "example_file = random.choice(hdf5_files)\n",
    "with h5py.File(example_file, 'r') as f:\n",
    "    print_structure(f)"
   ]
  },
  {
   "cell_type": "markdown",
   "metadata": {},
   "source": [
    "## 2. Convert to tf dataset (Optional)"
   ]
  },
  {
   "cell_type": "markdown",
   "metadata": {},
   "source": [
    "We recommend the readers to refer to https://github.com/kpertsch/rlds_dataset_builder for further guidance."
   ]
  }
 ],
 "metadata": {
  "kernelspec": {
   "display_name": "vlabench",
   "language": "python",
   "name": "python3"
  },
  "language_info": {
   "codemirror_mode": {
    "name": "ipython",
    "version": 3
   },
   "file_extension": ".py",
   "mimetype": "text/x-python",
   "name": "python",
   "nbconvert_exporter": "python",
   "pygments_lexer": "ipython3",
   "version": "3.10.16"
  }
 },
 "nbformat": 4,
 "nbformat_minor": 2
}
